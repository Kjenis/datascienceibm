{
 "cells": [
  {
   "attachments": {},
   "cell_type": "markdown",
   "id": "05866281-472a-4d81-9ffc-11317ff58111",
   "metadata": {},
   "source": [
    "## Author : *Kjenis*\n"
   ]
  },
  {
   "attachments": {},
   "cell_type": "markdown",
   "id": "45675b2a-a170-42a2-8525-95add492aed0",
   "metadata": {},
   "source": [
    "# Data Science Tools and Ecosystem\n"
   ]
  },
  {
   "attachments": {},
   "cell_type": "markdown",
   "id": "adcbfcd8-6ce8-4844-ae15-fe461d62b536",
   "metadata": {},
   "source": [
    "In this notebook, Data Science Tools and Ecosystem are summarized.\n"
   ]
  },
  {
   "attachments": {},
   "cell_type": "markdown",
   "id": "b2bd941c-293f-4865-8f45-af6af2907ffb",
   "metadata": {},
   "source": [
    "### Some of the popular languages that Data Scientists use are:\n",
    "1. Python\n",
    "2. R\n",
    "3. SQL\n",
    "\n"
   ]
  },
  {
   "cell_type": "markdown",
   "id": "b7c660ba-01e9-4f77-90cc-b1cae8c474eb",
   "metadata": {},
   "source": [
    "#### Some of the commonly used libraries used by Data Scientists include:\n",
    "* Nympy\n",
    "* Matplotlib\n",
    "* Pandas\n",
    "* Scikit-learn"
   ]
  },
  {
   "cell_type": "markdown",
   "id": "ab362759-8505-48af-96a0-a28d3338c413",
   "metadata": {},
   "source": [
    "### Data Science Tools\n",
    "\n",
    "| Type | Example | Overview \n",
    "|------|---------|----------\n",
    "|Data Collection| SQL | programm language to collect, safe and extract data from databases use queries\n",
    "|Data Integration| Apache Airflow | program softfare that used to ETL \n",
    "|Data Visualization| Tableau | programm softfare used to visualizate your data"
   ]
  },
  {
   "cell_type": "markdown",
   "id": "c90fc870-7ff5-482d-8d55-b7436ae22255",
   "metadata": {},
   "source": [
    "### Below are a few examples of evaluating arithmetic expressions in Python.\n"
   ]
  },
  {
   "cell_type": "code",
   "execution_count": 6,
   "id": "67390ffb-697b-40b5-b844-cd5be4293c76",
   "metadata": {},
   "outputs": [
    {
     "data": {
      "text/plain": [
       "17"
      ]
     },
     "execution_count": 6,
     "metadata": {},
     "output_type": "execute_result"
    }
   ],
   "source": [
    "# This a simple arithmetic expression to mutiply then add integers\n",
    "(3*4)+5"
   ]
  },
  {
   "cell_type": "code",
   "execution_count": 9,
   "id": "752c3d24-1600-4656-b463-adf14f69d3db",
   "metadata": {},
   "outputs": [
    {
     "data": {
      "text/plain": [
       "3.3333333333333335"
      ]
     },
     "execution_count": 9,
     "metadata": {},
     "output_type": "execute_result"
    }
   ],
   "source": [
    "# This will convert 200 minutes to hours by diving by 60\n",
    "200/60"
   ]
  },
  {
   "cell_type": "markdown",
   "id": "d16ee2e4-f502-46e7-87c1-cb57ec172635",
   "metadata": {},
   "source": [
    "**Objectives**\n",
    "- Python\n",
    "- Tableau/PowerBI\n",
    "- SQL\n",
    "- Resume\n",
    "- Find a work\n",
    "- Get a girlfriend\n",
    "- Marry\n"
   ]
  },
  {
   "cell_type": "code",
   "execution_count": null,
   "id": "3b416e55-c226-4174-b57f-4de730bced4f",
   "metadata": {},
   "outputs": [],
   "source": []
  }
 ],
 "metadata": {
  "kernelspec": {
   "display_name": "Python 3 (ipykernel)",
   "language": "python",
   "name": "python3"
  },
  "language_info": {
   "codemirror_mode": {
    "name": "ipython",
    "version": 3
   },
   "file_extension": ".py",
   "mimetype": "text/x-python",
   "name": "python",
   "nbconvert_exporter": "python",
   "pygments_lexer": "ipython3",
   "version": "3.12.2"
  }
 },
 "nbformat": 4,
 "nbformat_minor": 5
}
